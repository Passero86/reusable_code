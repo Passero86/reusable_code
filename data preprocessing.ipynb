{
 "cells": [
  {
   "cell_type": "code",
   "execution_count": 1,
   "metadata": {},
   "outputs": [],
   "source": [
    "# import essential libraries\n",
    "import numpy as np\n",
    "import pandas as pd\n",
    "from sklearn import preprocessing"
   ]
  },
  {
   "cell_type": "code",
   "execution_count": 4,
   "metadata": {},
   "outputs": [
    {
     "data": {
      "text/html": [
       "<div>\n",
       "<style>\n",
       "    .dataframe thead tr:only-child th {\n",
       "        text-align: right;\n",
       "    }\n",
       "\n",
       "    .dataframe thead th {\n",
       "        text-align: left;\n",
       "    }\n",
       "\n",
       "    .dataframe tbody tr th {\n",
       "        vertical-align: top;\n",
       "    }\n",
       "</style>\n",
       "<table border=\"1\" class=\"dataframe\">\n",
       "  <thead>\n",
       "    <tr style=\"text-align: right;\">\n",
       "      <th></th>\n",
       "      <th>mcg</th>\n",
       "      <th>gvh</th>\n",
       "      <th>alm</th>\n",
       "      <th>mit</th>\n",
       "      <th>erl</th>\n",
       "      <th>pox</th>\n",
       "      <th>vac</th>\n",
       "      <th>nuc</th>\n",
       "      <th>class_protein_localization</th>\n",
       "    </tr>\n",
       "  </thead>\n",
       "  <tbody>\n",
       "    <tr>\n",
       "      <th>0</th>\n",
       "      <td>0.58</td>\n",
       "      <td>0.61</td>\n",
       "      <td>0.47</td>\n",
       "      <td>0.13</td>\n",
       "      <td>0.5</td>\n",
       "      <td>0.0</td>\n",
       "      <td>0.48</td>\n",
       "      <td>0.22</td>\n",
       "      <td>MIT</td>\n",
       "    </tr>\n",
       "    <tr>\n",
       "      <th>1</th>\n",
       "      <td>0.43</td>\n",
       "      <td>0.67</td>\n",
       "      <td>0.48</td>\n",
       "      <td>0.27</td>\n",
       "      <td>0.5</td>\n",
       "      <td>0.0</td>\n",
       "      <td>0.53</td>\n",
       "      <td>0.22</td>\n",
       "      <td>MIT</td>\n",
       "    </tr>\n",
       "    <tr>\n",
       "      <th>2</th>\n",
       "      <td>0.64</td>\n",
       "      <td>0.62</td>\n",
       "      <td>0.49</td>\n",
       "      <td>0.15</td>\n",
       "      <td>0.5</td>\n",
       "      <td>0.0</td>\n",
       "      <td>0.53</td>\n",
       "      <td>0.22</td>\n",
       "      <td>MIT</td>\n",
       "    </tr>\n",
       "    <tr>\n",
       "      <th>3</th>\n",
       "      <td>0.58</td>\n",
       "      <td>0.44</td>\n",
       "      <td>0.57</td>\n",
       "      <td>0.13</td>\n",
       "      <td>0.5</td>\n",
       "      <td>0.0</td>\n",
       "      <td>0.54</td>\n",
       "      <td>0.22</td>\n",
       "      <td>NUC</td>\n",
       "    </tr>\n",
       "    <tr>\n",
       "      <th>4</th>\n",
       "      <td>0.42</td>\n",
       "      <td>0.44</td>\n",
       "      <td>0.48</td>\n",
       "      <td>0.54</td>\n",
       "      <td>0.5</td>\n",
       "      <td>0.0</td>\n",
       "      <td>0.48</td>\n",
       "      <td>0.22</td>\n",
       "      <td>MIT</td>\n",
       "    </tr>\n",
       "  </tbody>\n",
       "</table>\n",
       "</div>"
      ],
      "text/plain": [
       "    mcg   gvh   alm   mit  erl  pox   vac   nuc class_protein_localization\n",
       "0  0.58  0.61  0.47  0.13  0.5  0.0  0.48  0.22                        MIT\n",
       "1  0.43  0.67  0.48  0.27  0.5  0.0  0.53  0.22                        MIT\n",
       "2  0.64  0.62  0.49  0.15  0.5  0.0  0.53  0.22                        MIT\n",
       "3  0.58  0.44  0.57  0.13  0.5  0.0  0.54  0.22                        NUC\n",
       "4  0.42  0.44  0.48  0.54  0.5  0.0  0.48  0.22                        MIT"
      ]
     },
     "execution_count": 4,
     "metadata": {},
     "output_type": "execute_result"
    }
   ],
   "source": [
    "# load dataset\n",
    "data = pd.read_csv(\"yeast.csv\")\n",
    "data.head()"
   ]
  },
  {
   "cell_type": "code",
   "execution_count": 6,
   "metadata": {},
   "outputs": [
    {
     "name": "stderr",
     "output_type": "stream",
     "text": [
      "C:\\Anaconda3\\lib\\site-packages\\ipykernel_launcher.py:2: DeprecationWarning: \n",
      ".ix is deprecated. Please use\n",
      ".loc for label based indexing or\n",
      ".iloc for positional indexing\n",
      "\n",
      "See the documentation here:\n",
      "http://pandas.pydata.org/pandas-docs/stable/indexing.html#ix-indexer-is-deprecated\n",
      "  \n"
     ]
    },
    {
     "data": {
      "text/html": [
       "<div>\n",
       "<style>\n",
       "    .dataframe thead tr:only-child th {\n",
       "        text-align: right;\n",
       "    }\n",
       "\n",
       "    .dataframe thead th {\n",
       "        text-align: left;\n",
       "    }\n",
       "\n",
       "    .dataframe tbody tr th {\n",
       "        vertical-align: top;\n",
       "    }\n",
       "</style>\n",
       "<table border=\"1\" class=\"dataframe\">\n",
       "  <thead>\n",
       "    <tr style=\"text-align: right;\">\n",
       "      <th></th>\n",
       "      <th>mcg</th>\n",
       "      <th>gvh</th>\n",
       "      <th>alm</th>\n",
       "      <th>mit</th>\n",
       "      <th>erl</th>\n",
       "      <th>pox</th>\n",
       "      <th>vac</th>\n",
       "      <th>nuc</th>\n",
       "      <th>class_protein_localization</th>\n",
       "    </tr>\n",
       "  </thead>\n",
       "  <tbody>\n",
       "    <tr>\n",
       "      <th>0</th>\n",
       "      <td>0.58</td>\n",
       "      <td>0.61</td>\n",
       "      <td>0.47</td>\n",
       "      <td>0.13</td>\n",
       "      <td>0.5</td>\n",
       "      <td>0.0</td>\n",
       "      <td>0.48</td>\n",
       "      <td>0.22</td>\n",
       "      <td>MIT</td>\n",
       "    </tr>\n",
       "    <tr>\n",
       "      <th>1</th>\n",
       "      <td>0.43</td>\n",
       "      <td>0.67</td>\n",
       "      <td>0.48</td>\n",
       "      <td>0.27</td>\n",
       "      <td>0.5</td>\n",
       "      <td>0.0</td>\n",
       "      <td>0.53</td>\n",
       "      <td>0.22</td>\n",
       "      <td>MIT</td>\n",
       "    </tr>\n",
       "    <tr>\n",
       "      <th>2</th>\n",
       "      <td>0.64</td>\n",
       "      <td>0.62</td>\n",
       "      <td>0.49</td>\n",
       "      <td>0.15</td>\n",
       "      <td>0.5</td>\n",
       "      <td>0.0</td>\n",
       "      <td>0.53</td>\n",
       "      <td>0.22</td>\n",
       "      <td>MIT</td>\n",
       "    </tr>\n",
       "    <tr>\n",
       "      <th>3</th>\n",
       "      <td>0.58</td>\n",
       "      <td>0.44</td>\n",
       "      <td>0.57</td>\n",
       "      <td>0.13</td>\n",
       "      <td>0.5</td>\n",
       "      <td>0.0</td>\n",
       "      <td>0.54</td>\n",
       "      <td>0.22</td>\n",
       "      <td>NUC</td>\n",
       "    </tr>\n",
       "    <tr>\n",
       "      <th>4</th>\n",
       "      <td>0.42</td>\n",
       "      <td>0.44</td>\n",
       "      <td>0.48</td>\n",
       "      <td>0.54</td>\n",
       "      <td>0.5</td>\n",
       "      <td>0.0</td>\n",
       "      <td>0.48</td>\n",
       "      <td>0.22</td>\n",
       "      <td>MIT</td>\n",
       "    </tr>\n",
       "  </tbody>\n",
       "</table>\n",
       "</div>"
      ],
      "text/plain": [
       "    mcg   gvh   alm   mit  erl  pox   vac   nuc class_protein_localization\n",
       "0  0.58  0.61  0.47  0.13  0.5  0.0  0.48  0.22                        MIT\n",
       "1  0.43  0.67  0.48  0.27  0.5  0.0  0.53  0.22                        MIT\n",
       "2  0.64  0.62  0.49  0.15  0.5  0.0  0.53  0.22                        MIT\n",
       "3  0.58  0.44  0.57  0.13  0.5  0.0  0.54  0.22                        NUC\n",
       "4  0.42  0.44  0.48  0.54  0.5  0.0  0.48  0.22                        MIT"
      ]
     },
     "execution_count": 6,
     "metadata": {},
     "output_type": "execute_result"
    }
   ],
   "source": [
    "# data transform in case of wrong format\n",
    "data = data.ix[:, 0:]\n",
    "data.head()"
   ]
  },
  {
   "cell_type": "code",
   "execution_count": 7,
   "metadata": {},
   "outputs": [
    {
     "data": {
      "text/plain": [
       "(1484, 9)"
      ]
     },
     "execution_count": 7,
     "metadata": {},
     "output_type": "execute_result"
    }
   ],
   "source": [
    "# check dataset information\n",
    "data.shape"
   ]
  },
  {
   "cell_type": "code",
   "execution_count": 17,
   "metadata": {},
   "outputs": [
    {
     "name": "stdout",
     "output_type": "stream",
     "text": [
      "    mcg   gvh   alm   mit  erl  pox   vac   nuc\n",
      "0  0.58  0.61  0.47  0.13  0.5  0.0  0.48  0.22\n",
      "1  0.43  0.67  0.48  0.27  0.5  0.0  0.53  0.22\n",
      "2  0.64  0.62  0.49  0.15  0.5  0.0  0.53  0.22\n",
      "3  0.58  0.44  0.57  0.13  0.5  0.0  0.54  0.22\n",
      "4  0.42  0.44  0.48  0.54  0.5  0.0  0.48  0.22\n",
      "0    MIT\n",
      "1    MIT\n",
      "2    MIT\n",
      "3    NUC\n",
      "4    MIT\n",
      "Name: class_protein_localization, dtype: object\n"
     ]
    }
   ],
   "source": [
    "# features and labels extraction\n",
    "features = data.ix[:, :-1]\n",
    "labels = data.ix[:, -1]\n",
    "print(features.head())\n",
    "print(labels.head())"
   ]
  },
  {
   "cell_type": "code",
   "execution_count": 18,
   "metadata": {},
   "outputs": [
    {
     "name": "stdout",
     "output_type": "stream",
     "text": [
      "          0         1         2         3        4         5         6  \\\n",
      "0  0.581981  0.888481 -0.346645 -0.957203 -0.09759 -0.099131 -0.344175   \n",
      "1 -0.510891  1.372811 -0.231226  0.064312 -0.09759 -0.099131  0.521219   \n",
      "2  1.019130  0.969203 -0.115808 -0.811272 -0.09759 -0.099131  0.521219   \n",
      "3  0.581981 -0.483786  0.807542 -0.957203 -0.09759 -0.099131  0.694298   \n",
      "4 -0.583749 -0.483786 -0.231226  2.034375 -0.09759 -0.099131 -0.344175   \n",
      "\n",
      "          7  \n",
      "0 -0.527919  \n",
      "1 -0.527919  \n",
      "2 -0.527919  \n",
      "3 -0.527919  \n",
      "4 -0.527919  \n",
      "0    2.681293e-16\n",
      "1    5.910217e-17\n",
      "2    1.043640e-17\n",
      "3    3.418948e-17\n",
      "4   -1.415366e-15\n",
      "5    4.263399e-16\n",
      "6    1.263141e-15\n",
      "7   -2.269823e-16\n",
      "dtype: float64\n",
      "0    1.000337\n",
      "1    1.000337\n",
      "2    1.000337\n",
      "3    1.000337\n",
      "4    1.000337\n",
      "5    1.000337\n",
      "6    1.000337\n",
      "7    1.000337\n",
      "dtype: float64\n"
     ]
    }
   ],
   "source": [
    "# feature preprocessing using scale\n",
    "features_scaled_via_scale = preprocessing.scale(features)\n",
    "features_scaled_via_scale = pd.DataFrame(features_scaled_via_scale)\n",
    "print(features_scaled_via_scale.head())\n",
    "print(features_scaled_via_scale.mean(axis=0))\n",
    "print(features_scaled_via_scale.std(axis=0))"
   ]
  },
  {
   "cell_type": "code",
   "execution_count": 19,
   "metadata": {},
   "outputs": [
    {
     "name": "stdout",
     "output_type": "stream",
     "text": [
      "          0         1         2     3    4    5         6     7\n",
      "0  0.528090  0.551724  0.329114  0.13  0.0  0.0  0.657534  0.22\n",
      "1  0.359551  0.620690  0.341772  0.27  0.0  0.0  0.726027  0.22\n",
      "2  0.595506  0.563218  0.354430  0.15  0.0  0.0  0.726027  0.22\n",
      "3  0.528090  0.356322  0.455696  0.13  0.0  0.0  0.739726  0.22\n",
      "4  0.348315  0.356322  0.341772  0.54  0.0  0.0  0.657534  0.22\n",
      "0    0.438339\n",
      "1    0.425210\n",
      "2    0.367131\n",
      "3    0.261186\n",
      "4    0.009434\n",
      "5    0.009036\n",
      "6    0.684775\n",
      "7    0.276199\n",
      "dtype: float64\n",
      "0    0.154269\n",
      "1    0.142442\n",
      "2    0.109709\n",
      "3    0.137098\n",
      "4    0.096702\n",
      "5    0.091184\n",
      "6    0.079173\n",
      "7    0.106491\n",
      "dtype: float64\n"
     ]
    }
   ],
   "source": [
    "# feature preprocessing using minmaxscaler\n",
    "min_max_scaler =  preprocessing.MinMaxScaler()\n",
    "features_scaled_via_minmaxscaler = min_max_scaler.fit_transform(features)\n",
    "features_scaled_via_minmaxscaler = pd.DataFrame(features_scaled_via_minmaxscaler)\n",
    "print(features_scaled_via_minmaxscaler.head())\n",
    "print(features_scaled_via_minmaxscaler.mean(axis=0))\n",
    "print(features_scaled_via_minmaxscaler.std(axis=0))"
   ]
  },
  {
   "cell_type": "code",
   "execution_count": 20,
   "metadata": {},
   "outputs": [
    {
     "name": "stdout",
     "output_type": "stream",
     "text": [
      "      0     1     2     3    4    5         6     7\n",
      "0  0.58  0.61  0.47  0.13  0.5  0.0  0.657534  0.22\n",
      "1  0.43  0.67  0.48  0.27  0.5  0.0  0.726027  0.22\n",
      "2  0.64  0.62  0.49  0.15  0.5  0.0  0.726027  0.22\n",
      "3  0.58  0.44  0.57  0.13  0.5  0.0  0.739726  0.22\n",
      "4  0.42  0.44  0.48  0.54  0.5  0.0  0.657534  0.22\n",
      "0    0.500121\n",
      "1    0.499933\n",
      "2    0.500034\n",
      "3    0.261186\n",
      "4    0.504717\n",
      "5    0.009036\n",
      "6    0.684775\n",
      "7    0.276199\n",
      "dtype: float64\n",
      "0    0.137299\n",
      "1    0.123924\n",
      "2    0.086670\n",
      "3    0.137098\n",
      "4    0.048351\n",
      "5    0.091184\n",
      "6    0.079173\n",
      "7    0.106491\n",
      "dtype: float64\n"
     ]
    }
   ],
   "source": [
    "# feature preprocessing using maxabsscaler\n",
    "max_abs_scaler =  preprocessing.MaxAbsScaler()\n",
    "features_scaled_via_maxabsscaler = max_abs_scaler.fit_transform(features)\n",
    "features_scaled_via_maxabsscaler = pd.DataFrame(features_scaled_via_maxabsscaler)\n",
    "print(features_scaled_via_maxabsscaler.head())\n",
    "print(features_scaled_via_maxabsscaler.mean(axis=0))\n",
    "print(features_scaled_via_maxabsscaler.std(axis=0))"
   ]
  },
  {
   "cell_type": "code",
   "execution_count": 26,
   "metadata": {},
   "outputs": [
    {
     "name": "stdout",
     "output_type": "stream",
     "text": [
      "0    0\n",
      "1    0\n",
      "2    0\n",
      "3    1\n",
      "4    0\n",
      "Name: class_protein_localization, dtype: int64\n"
     ]
    }
   ],
   "source": [
    "# labels preprocessing using numerical labels\n",
    "unique_labels = labels.unique()\n",
    "n_unique_labels = len(unique_labels)\n",
    "labels.replace(unique_labels, np.arange(n_unique_labels), inplace=True)\n",
    "print(labels.head())"
   ]
  },
  {
   "cell_type": "code",
   "execution_count": 30,
   "metadata": {},
   "outputs": [
    {
     "data": {
      "text/html": [
       "<div>\n",
       "<style>\n",
       "    .dataframe thead tr:only-child th {\n",
       "        text-align: right;\n",
       "    }\n",
       "\n",
       "    .dataframe thead th {\n",
       "        text-align: left;\n",
       "    }\n",
       "\n",
       "    .dataframe tbody tr th {\n",
       "        vertical-align: top;\n",
       "    }\n",
       "</style>\n",
       "<table border=\"1\" class=\"dataframe\">\n",
       "  <thead>\n",
       "    <tr style=\"text-align: right;\">\n",
       "      <th></th>\n",
       "      <th>mcg</th>\n",
       "      <th>gvh</th>\n",
       "      <th>alm</th>\n",
       "      <th>mit</th>\n",
       "      <th>erl</th>\n",
       "      <th>pox</th>\n",
       "      <th>vac</th>\n",
       "      <th>nuc</th>\n",
       "      <th>labels</th>\n",
       "    </tr>\n",
       "  </thead>\n",
       "  <tbody>\n",
       "    <tr>\n",
       "      <th>0</th>\n",
       "      <td>0.58</td>\n",
       "      <td>0.61</td>\n",
       "      <td>0.47</td>\n",
       "      <td>0.13</td>\n",
       "      <td>0.5</td>\n",
       "      <td>0.0</td>\n",
       "      <td>0.48</td>\n",
       "      <td>0.22</td>\n",
       "      <td>0</td>\n",
       "    </tr>\n",
       "    <tr>\n",
       "      <th>1</th>\n",
       "      <td>0.43</td>\n",
       "      <td>0.67</td>\n",
       "      <td>0.48</td>\n",
       "      <td>0.27</td>\n",
       "      <td>0.5</td>\n",
       "      <td>0.0</td>\n",
       "      <td>0.53</td>\n",
       "      <td>0.22</td>\n",
       "      <td>0</td>\n",
       "    </tr>\n",
       "    <tr>\n",
       "      <th>2</th>\n",
       "      <td>0.64</td>\n",
       "      <td>0.62</td>\n",
       "      <td>0.49</td>\n",
       "      <td>0.15</td>\n",
       "      <td>0.5</td>\n",
       "      <td>0.0</td>\n",
       "      <td>0.53</td>\n",
       "      <td>0.22</td>\n",
       "      <td>0</td>\n",
       "    </tr>\n",
       "    <tr>\n",
       "      <th>3</th>\n",
       "      <td>0.58</td>\n",
       "      <td>0.44</td>\n",
       "      <td>0.57</td>\n",
       "      <td>0.13</td>\n",
       "      <td>0.5</td>\n",
       "      <td>0.0</td>\n",
       "      <td>0.54</td>\n",
       "      <td>0.22</td>\n",
       "      <td>1</td>\n",
       "    </tr>\n",
       "    <tr>\n",
       "      <th>4</th>\n",
       "      <td>0.42</td>\n",
       "      <td>0.44</td>\n",
       "      <td>0.48</td>\n",
       "      <td>0.54</td>\n",
       "      <td>0.5</td>\n",
       "      <td>0.0</td>\n",
       "      <td>0.48</td>\n",
       "      <td>0.22</td>\n",
       "      <td>0</td>\n",
       "    </tr>\n",
       "  </tbody>\n",
       "</table>\n",
       "</div>"
      ],
      "text/plain": [
       "    mcg   gvh   alm   mit  erl  pox   vac   nuc  labels\n",
       "0  0.58  0.61  0.47  0.13  0.5  0.0  0.48  0.22       0\n",
       "1  0.43  0.67  0.48  0.27  0.5  0.0  0.53  0.22       0\n",
       "2  0.64  0.62  0.49  0.15  0.5  0.0  0.53  0.22       0\n",
       "3  0.58  0.44  0.57  0.13  0.5  0.0  0.54  0.22       1\n",
       "4  0.42  0.44  0.48  0.54  0.5  0.0  0.48  0.22       0"
      ]
     },
     "execution_count": 30,
     "metadata": {},
     "output_type": "execute_result"
    }
   ],
   "source": [
    "# data concat\n",
    "features['labels'] = labels\n",
    "features.head()"
   ]
  },
  {
   "cell_type": "code",
   "execution_count": 31,
   "metadata": {},
   "outputs": [],
   "source": [
    "# save as csv file\n",
    "features.to_csv(\"yeast_scaled.csv\")"
   ]
  },
  {
   "cell_type": "code",
   "execution_count": null,
   "metadata": {},
   "outputs": [],
   "source": []
  }
 ],
 "metadata": {
  "kernelspec": {
   "display_name": "Python 3",
   "language": "python",
   "name": "python3"
  },
  "language_info": {
   "codemirror_mode": {
    "name": "ipython",
    "version": 3
   },
   "file_extension": ".py",
   "mimetype": "text/x-python",
   "name": "python",
   "nbconvert_exporter": "python",
   "pygments_lexer": "ipython3",
   "version": "3.6.8"
  }
 },
 "nbformat": 4,
 "nbformat_minor": 2
}
